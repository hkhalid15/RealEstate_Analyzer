{
 "cells": [
  {
   "cell_type": "code",
   "execution_count": 1,
   "metadata": {},
   "outputs": [],
   "source": [
    "import pandas as pd\n",
    "import numpy as np\n",
    "from pandas import ExcelWriter"
   ]
  },
  {
   "cell_type": "code",
   "execution_count": null,
   "metadata": {},
   "outputs": [],
   "source": [
    "#Future Goal: User inputs a desired area or areas"
   ]
  },
  {
   "cell_type": "code",
   "execution_count": 2,
   "metadata": {
    "scrolled": true
   },
   "outputs": [
    {
     "data": {
      "text/html": [
       "<div>\n",
       "<style scoped>\n",
       "    .dataframe tbody tr th:only-of-type {\n",
       "        vertical-align: middle;\n",
       "    }\n",
       "\n",
       "    .dataframe tbody tr th {\n",
       "        vertical-align: top;\n",
       "    }\n",
       "\n",
       "    .dataframe thead th {\n",
       "        text-align: right;\n",
       "    }\n",
       "</style>\n",
       "<table border=\"1\" class=\"dataframe\">\n",
       "  <thead>\n",
       "    <tr style=\"text-align: right;\">\n",
       "      <th></th>\n",
       "      <th>SALE TYPE</th>\n",
       "      <th>SOLD DATE</th>\n",
       "      <th>PROPERTY TYPE</th>\n",
       "      <th>ADDRESS</th>\n",
       "      <th>CITY</th>\n",
       "      <th>STATE</th>\n",
       "      <th>ZIP</th>\n",
       "      <th>PRICE</th>\n",
       "      <th>BEDS</th>\n",
       "      <th>BATHS</th>\n",
       "      <th>...</th>\n",
       "      <th>STATUS</th>\n",
       "      <th>NEXT OPEN HOUSE START TIME</th>\n",
       "      <th>NEXT OPEN HOUSE END TIME</th>\n",
       "      <th>URL (SEE http://www.redfin.com/buy-a-home/comparative-market-analysis FOR INFO ON PRICING)</th>\n",
       "      <th>SOURCE</th>\n",
       "      <th>MLS#</th>\n",
       "      <th>FAVORITE</th>\n",
       "      <th>INTERESTED</th>\n",
       "      <th>LATITUDE</th>\n",
       "      <th>LONGITUDE</th>\n",
       "    </tr>\n",
       "  </thead>\n",
       "  <tbody>\n",
       "    <tr>\n",
       "      <th>0</th>\n",
       "      <td>MLS Listing</td>\n",
       "      <td>NaN</td>\n",
       "      <td>Condo/Co-op</td>\n",
       "      <td>1045 Utah St Unit 2-111</td>\n",
       "      <td>Arlington</td>\n",
       "      <td>VA</td>\n",
       "      <td>22201</td>\n",
       "      <td>329900</td>\n",
       "      <td>1</td>\n",
       "      <td>1.0</td>\n",
       "      <td>...</td>\n",
       "      <td>Active</td>\n",
       "      <td>April-22-2018 01:00 PM</td>\n",
       "      <td>April-22-2018 04:00 PM</td>\n",
       "      <td>http://www.redfin.com/VA/Arlington/1045-N-Utah...</td>\n",
       "      <td>MRIS</td>\n",
       "      <td>AR10215237</td>\n",
       "      <td>N</td>\n",
       "      <td>Y</td>\n",
       "      <td>38.883287</td>\n",
       "      <td>-77.113566</td>\n",
       "    </tr>\n",
       "    <tr>\n",
       "      <th>1</th>\n",
       "      <td>MLS Listing</td>\n",
       "      <td>NaN</td>\n",
       "      <td>Condo/Co-op</td>\n",
       "      <td>1115 12th St NW #405</td>\n",
       "      <td>Washington</td>\n",
       "      <td>DC</td>\n",
       "      <td>20005</td>\n",
       "      <td>399000</td>\n",
       "      <td>1</td>\n",
       "      <td>1.0</td>\n",
       "      <td>...</td>\n",
       "      <td>Active</td>\n",
       "      <td>April-22-2018 01:00 PM</td>\n",
       "      <td>April-22-2018 04:00 PM</td>\n",
       "      <td>http://www.redfin.com/DC/Washington/1115-12th-...</td>\n",
       "      <td>MRIS</td>\n",
       "      <td>DC10212424</td>\n",
       "      <td>N</td>\n",
       "      <td>Y</td>\n",
       "      <td>38.904570</td>\n",
       "      <td>-77.027944</td>\n",
       "    </tr>\n",
       "  </tbody>\n",
       "</table>\n",
       "<p>2 rows × 27 columns</p>\n",
       "</div>"
      ],
      "text/plain": [
       "     SALE TYPE  SOLD DATE PROPERTY TYPE                  ADDRESS        CITY  \\\n",
       "0  MLS Listing        NaN   Condo/Co-op  1045 Utah St Unit 2-111   Arlington   \n",
       "1  MLS Listing        NaN   Condo/Co-op     1115 12th St NW #405  Washington   \n",
       "\n",
       "  STATE    ZIP   PRICE  BEDS  BATHS    ...      STATUS  \\\n",
       "0    VA  22201  329900     1    1.0    ...      Active   \n",
       "1    DC  20005  399000     1    1.0    ...      Active   \n",
       "\n",
       "   NEXT OPEN HOUSE START TIME  NEXT OPEN HOUSE END TIME  \\\n",
       "0      April-22-2018 01:00 PM    April-22-2018 04:00 PM   \n",
       "1      April-22-2018 01:00 PM    April-22-2018 04:00 PM   \n",
       "\n",
       "   URL (SEE http://www.redfin.com/buy-a-home/comparative-market-analysis FOR INFO ON PRICING)  \\\n",
       "0  http://www.redfin.com/VA/Arlington/1045-N-Utah...                                            \n",
       "1  http://www.redfin.com/DC/Washington/1115-12th-...                                            \n",
       "\n",
       "   SOURCE        MLS#  FAVORITE INTERESTED   LATITUDE  LONGITUDE  \n",
       "0    MRIS  AR10215237         N          Y  38.883287 -77.113566  \n",
       "1    MRIS  DC10212424         N          Y  38.904570 -77.027944  \n",
       "\n",
       "[2 rows x 27 columns]"
      ]
     },
     "execution_count": 2,
     "metadata": {},
     "output_type": "execute_result"
    }
   ],
   "source": [
    "#Future Goal: Pull data using an API\n",
    "\n",
    "#Read and display the CSV file\n",
    "org_redfin_csv = pd.read_csv(\"redfin_2018-04-22-09-17-05.csv\")\n",
    "org_redfin_csv.head(2)"
   ]
  },
  {
   "cell_type": "code",
   "execution_count": 3,
   "metadata": {},
   "outputs": [
    {
     "data": {
      "text/plain": [
       "(350, 27)"
      ]
     },
     "execution_count": 3,
     "metadata": {},
     "output_type": "execute_result"
    }
   ],
   "source": [
    "#To see the shape of the dataset\n",
    "org_redfin_csv.shape"
   ]
  },
  {
   "cell_type": "code",
   "execution_count": 4,
   "metadata": {},
   "outputs": [
    {
     "data": {
      "text/plain": [
       "Index(['SALE TYPE', 'SOLD DATE', 'PROPERTY TYPE', 'ADDRESS', 'CITY', 'STATE',\n",
       "       'ZIP', 'PRICE', 'BEDS', 'BATHS', 'LOCATION', 'SQUARE FEET', 'LOT SIZE',\n",
       "       'YEAR BUILT', 'DAYS ON MARKET', '$/SQUARE FEET', 'HOA/MONTH', 'STATUS',\n",
       "       'NEXT OPEN HOUSE START TIME', 'NEXT OPEN HOUSE END TIME',\n",
       "       'URL (SEE http://www.redfin.com/buy-a-home/comparative-market-analysis FOR INFO ON PRICING)',\n",
       "       'SOURCE', 'MLS#', 'FAVORITE', 'INTERESTED', 'LATITUDE', 'LONGITUDE'],\n",
       "      dtype='object')"
      ]
     },
     "execution_count": 4,
     "metadata": {},
     "output_type": "execute_result"
    }
   ],
   "source": [
    "#To see all the columns\n",
    "org_redfin_csv.columns"
   ]
  },
  {
   "cell_type": "code",
   "execution_count": 5,
   "metadata": {},
   "outputs": [],
   "source": [
    "#To drop multiple columns that are not useful\n",
    "org_redfin_csv.drop(['SALE TYPE', 'SOLD DATE', 'LOT SIZE', 'STATUS',\n",
    "                    'NEXT OPEN HOUSE START TIME', 'NEXT OPEN HOUSE END TIME',\n",
    "                    'URL (SEE http://www.redfin.com/buy-a-home/comparative-market-analysis FOR INFO ON PRICING)',\n",
    "                    'SOURCE', 'FAVORITE', 'INTERESTED'], axis=1, inplace=True)"
   ]
  },
  {
   "cell_type": "code",
   "execution_count": 6,
   "metadata": {},
   "outputs": [
    {
     "data": {
      "text/plain": [
       "(350, 17)"
      ]
     },
     "execution_count": 6,
     "metadata": {},
     "output_type": "execute_result"
    }
   ],
   "source": [
    "#To see all the columns after certain columns have been deleted\n",
    "org_redfin_csv.shape"
   ]
  },
  {
   "cell_type": "code",
   "execution_count": 7,
   "metadata": {},
   "outputs": [],
   "source": [
    "#Adding Columns to the dataframe        \n",
    "org_redfin_csv['Down Payment'] = 60000\n",
    "org_redfin_csv['Closing Costs (3.5% or $3,700)'] = 3700\n",
    "org_redfin_csv['Mortgage Amount'] = 0\n",
    "org_redfin_csv['Mortgage Percentage'] = 0\n",
    "org_redfin_csv['Update & Repairs'] = 2000\n",
    "org_redfin_csv['Total Purchase Price'] = 0\n",
    "org_redfin_csv['Mortgage Payment (Rate 4.5%)'] = 0.0\n",
    "org_redfin_csv['Mortgage Interest'] = 0\n",
    "org_redfin_csv['PMI'] = 0\n",
    "org_redfin_csv['Property Insurance (Month)'] = 70\n",
    "org_redfin_csv['Property Taxes (VA 0.996, MD 0.934, DC (Price/100*.85))'] = 0\n",
    "org_redfin_csv['Total Monthly Expense'] = 0\n",
    "org_redfin_csv['Rent Estimate'] = 0\n",
    "org_redfin_csv['Cash Flow, net Est.'] = 0\n",
    "org_redfin_csv['Distance from Metro'] = \"\"\n",
    "org_redfin_csv['Metro Station'] = \"\"\n",
    "org_redfin_csv['Vacancy Accrual (2% Gross)'] = 0.0\n",
    "org_redfin_csv['Repair Accrual (1% Gross)'] = 0.0"
   ]
  },
  {
   "cell_type": "code",
   "execution_count": 8,
   "metadata": {},
   "outputs": [],
   "source": [
    "#Rename the column headings\n",
    "org_redfin_csv.columns = map(str.title, org_redfin_csv.columns)"
   ]
  },
  {
   "cell_type": "code",
   "execution_count": 9,
   "metadata": {},
   "outputs": [],
   "source": [
    "#Move columns into a different location\n",
    "org_redfin_csv = org_redfin_csv[\n",
    "    ['Price', 'Down Payment','Closing Costs (3.5% Or $3,700)', 'Mortgage Amount',\n",
    "     'Mortgage Percentage', 'Update & Repairs', 'Total Purchase Price',\n",
    "     'Mortgage Payment (Rate 4.5%)', 'Mortgage Interest', 'Pmi',\n",
    "     'Property Insurance (Month)',\n",
    "     'Property Taxes (Va 0.996, Md 0.934, Dc (Price/100*.85))',\n",
    "     'Hoa/Month','Total Monthly Expense', 'Rent Estimate', 'Cash Flow, Net Est.',\n",
    "     '$/Square Feet','Square Feet','Beds','Baths','Distance From Metro',\n",
    "     'Metro Station','City', 'State', 'Zip', 'Address','Location','Property Type','Year Built',\n",
    "     'Days On Market','Mls#', 'Latitude', 'Longitude'\n",
    "    ]]"
   ]
  },
  {
   "cell_type": "code",
   "execution_count": 10,
   "metadata": {},
   "outputs": [
    {
     "data": {
      "text/plain": [
       "Price                                                        int64\n",
       "Down Payment                                                 int64\n",
       "Closing Costs (3.5% Or $3,700)                               int64\n",
       "Mortgage Amount                                              int64\n",
       "Mortgage Percentage                                          int64\n",
       "Update & Repairs                                             int64\n",
       "Total Purchase Price                                         int64\n",
       "Mortgage Payment (Rate 4.5%)                               float64\n",
       "Mortgage Interest                                            int64\n",
       "Pmi                                                          int64\n",
       "Property Insurance (Month)                                   int64\n",
       "Property Taxes (Va 0.996, Md 0.934, Dc (Price/100*.85))      int64\n",
       "Hoa/Month                                                  float64\n",
       "Total Monthly Expense                                        int64\n",
       "Rent Estimate                                                int64\n",
       "Cash Flow, Net Est.                                          int64\n",
       "$/Square Feet                                                int64\n",
       "Square Feet                                                  int64\n",
       "Beds                                                         int64\n",
       "Baths                                                      float64\n",
       "Distance From Metro                                         object\n",
       "Metro Station                                               object\n",
       "City                                                        object\n",
       "State                                                       object\n",
       "Zip                                                          int64\n",
       "Address                                                     object\n",
       "Location                                                    object\n",
       "Property Type                                               object\n",
       "Year Built                                                   int64\n",
       "Days On Market                                               int64\n",
       "Mls#                                                        object\n",
       "Latitude                                                   float64\n",
       "Longitude                                                  float64\n",
       "dtype: object"
      ]
     },
     "execution_count": 10,
     "metadata": {},
     "output_type": "execute_result"
    }
   ],
   "source": [
    "#Examine the colums for dtypes\n",
    "org_redfin_csv.dtypes"
   ]
  },
  {
   "cell_type": "code",
   "execution_count": 11,
   "metadata": {},
   "outputs": [],
   "source": [
    "#Find null values\n",
    "org_redfin_csv.isnull().values.any()\n",
    "\n",
    "#Rreplace them with $0\n",
    "org_redfin_csv.fillna(value=0, inplace=True)"
   ]
  },
  {
   "cell_type": "code",
   "execution_count": 12,
   "metadata": {},
   "outputs": [
    {
     "data": {
      "text/plain": [
       "False"
      ]
     },
     "execution_count": 12,
     "metadata": {},
     "output_type": "execute_result"
    }
   ],
   "source": [
    "#Find null values\n",
    "org_redfin_csv.isnull().values.any()"
   ]
  },
  {
   "cell_type": "code",
   "execution_count": 13,
   "metadata": {},
   "outputs": [
    {
     "data": {
      "text/plain": [
       "Price                                                        int64\n",
       "Down Payment                                                 int64\n",
       "Closing Costs (3.5% Or $3,700)                               int64\n",
       "Mortgage Amount                                              int64\n",
       "Mortgage Percentage                                          int64\n",
       "Update & Repairs                                             int64\n",
       "Total Purchase Price                                         int64\n",
       "Mortgage Payment (Rate 4.5%)                               float64\n",
       "Mortgage Interest                                            int64\n",
       "Pmi                                                          int64\n",
       "Property Insurance (Month)                                   int64\n",
       "Property Taxes (Va 0.996, Md 0.934, Dc (Price/100*.85))      int64\n",
       "Hoa/Month                                                  float64\n",
       "Total Monthly Expense                                        int64\n",
       "Rent Estimate                                                int64\n",
       "Cash Flow, Net Est.                                          int64\n",
       "$/Square Feet                                                int64\n",
       "Square Feet                                                  int64\n",
       "Beds                                                         int64\n",
       "Baths                                                      float64\n",
       "Distance From Metro                                         object\n",
       "Metro Station                                               object\n",
       "City                                                        object\n",
       "State                                                       object\n",
       "Zip                                                          int64\n",
       "Address                                                     object\n",
       "Location                                                    object\n",
       "Property Type                                               object\n",
       "Year Built                                                   int64\n",
       "Days On Market                                               int64\n",
       "Mls#                                                        object\n",
       "Latitude                                                   float64\n",
       "Longitude                                                  float64\n",
       "dtype: object"
      ]
     },
     "execution_count": 13,
     "metadata": {},
     "output_type": "execute_result"
    }
   ],
   "source": [
    "#Examine the colums for dtypes\n",
    "org_redfin_csv.dtypes"
   ]
  },
  {
   "cell_type": "code",
   "execution_count": 14,
   "metadata": {},
   "outputs": [
    {
     "data": {
      "text/html": [
       "<div>\n",
       "<style scoped>\n",
       "    .dataframe tbody tr th:only-of-type {\n",
       "        vertical-align: middle;\n",
       "    }\n",
       "\n",
       "    .dataframe tbody tr th {\n",
       "        vertical-align: top;\n",
       "    }\n",
       "\n",
       "    .dataframe thead th {\n",
       "        text-align: right;\n",
       "    }\n",
       "</style>\n",
       "<table border=\"1\" class=\"dataframe\">\n",
       "  <thead>\n",
       "    <tr style=\"text-align: right;\">\n",
       "      <th></th>\n",
       "      <th>Price</th>\n",
       "      <th>Down Payment</th>\n",
       "      <th>Closing Costs (3.5% Or $3,700)</th>\n",
       "      <th>Mortgage Amount</th>\n",
       "      <th>Mortgage Percentage</th>\n",
       "      <th>Update &amp; Repairs</th>\n",
       "      <th>Total Purchase Price</th>\n",
       "      <th>Mortgage Payment (Rate 4.5%)</th>\n",
       "      <th>Mortgage Interest</th>\n",
       "      <th>Pmi</th>\n",
       "      <th>...</th>\n",
       "      <th>State</th>\n",
       "      <th>Zip</th>\n",
       "      <th>Address</th>\n",
       "      <th>Location</th>\n",
       "      <th>Property Type</th>\n",
       "      <th>Year Built</th>\n",
       "      <th>Days On Market</th>\n",
       "      <th>Mls#</th>\n",
       "      <th>Latitude</th>\n",
       "      <th>Longitude</th>\n",
       "    </tr>\n",
       "  </thead>\n",
       "  <tbody>\n",
       "    <tr>\n",
       "      <th>0</th>\n",
       "      <td>329900</td>\n",
       "      <td>60000</td>\n",
       "      <td>3700</td>\n",
       "      <td>269900</td>\n",
       "      <td>0</td>\n",
       "      <td>2000</td>\n",
       "      <td>0</td>\n",
       "      <td>0.0</td>\n",
       "      <td>0</td>\n",
       "      <td>0</td>\n",
       "      <td>...</td>\n",
       "      <td>VA</td>\n",
       "      <td>22201</td>\n",
       "      <td>1045 Utah St Unit 2-111</td>\n",
       "      <td>Windsor Plaza</td>\n",
       "      <td>Condo/Co-op</td>\n",
       "      <td>1994</td>\n",
       "      <td>2</td>\n",
       "      <td>AR10215237</td>\n",
       "      <td>38.883287</td>\n",
       "      <td>-77.113566</td>\n",
       "    </tr>\n",
       "    <tr>\n",
       "      <th>1</th>\n",
       "      <td>399000</td>\n",
       "      <td>60000</td>\n",
       "      <td>3700</td>\n",
       "      <td>339000</td>\n",
       "      <td>0</td>\n",
       "      <td>2000</td>\n",
       "      <td>0</td>\n",
       "      <td>0.0</td>\n",
       "      <td>0</td>\n",
       "      <td>0</td>\n",
       "      <td>...</td>\n",
       "      <td>DC</td>\n",
       "      <td>20005</td>\n",
       "      <td>1115 12th St NW #405</td>\n",
       "      <td>Old City #2</td>\n",
       "      <td>Condo/Co-op</td>\n",
       "      <td>1937</td>\n",
       "      <td>4</td>\n",
       "      <td>DC10212424</td>\n",
       "      <td>38.904570</td>\n",
       "      <td>-77.027944</td>\n",
       "    </tr>\n",
       "  </tbody>\n",
       "</table>\n",
       "<p>2 rows × 33 columns</p>\n",
       "</div>"
      ],
      "text/plain": [
       "    Price  Down Payment  Closing Costs (3.5% Or $3,700)  Mortgage Amount  \\\n",
       "0  329900         60000                            3700           269900   \n",
       "1  399000         60000                            3700           339000   \n",
       "\n",
       "   Mortgage Percentage  Update & Repairs  Total Purchase Price  \\\n",
       "0                    0              2000                     0   \n",
       "1                    0              2000                     0   \n",
       "\n",
       "   Mortgage Payment (Rate 4.5%)  Mortgage Interest  Pmi    ...      State  \\\n",
       "0                           0.0                  0    0    ...         VA   \n",
       "1                           0.0                  0    0    ...         DC   \n",
       "\n",
       "     Zip                  Address       Location  Property Type  Year Built  \\\n",
       "0  22201  1045 Utah St Unit 2-111  Windsor Plaza    Condo/Co-op        1994   \n",
       "1  20005     1115 12th St NW #405    Old City #2    Condo/Co-op        1937   \n",
       "\n",
       "   Days On Market        Mls#   Latitude  Longitude  \n",
       "0               2  AR10215237  38.883287 -77.113566  \n",
       "1               4  DC10212424  38.904570 -77.027944  \n",
       "\n",
       "[2 rows x 33 columns]"
      ]
     },
     "execution_count": 14,
     "metadata": {},
     "output_type": "execute_result"
    }
   ],
   "source": [
    "#Substract column values\n",
    "org_redfin_csv['Mortgage Amount'] = org_redfin_csv['Price'] - org_redfin_csv['Down Payment']\n",
    "org_redfin_csv.head(2)"
   ]
  },
  {
   "cell_type": "code",
   "execution_count": 42,
   "metadata": {},
   "outputs": [],
   "source": [
    "#Substract multiple columns\n",
    "#org_redfin_csv['Mortgage Amount'] = org_redfin_csv['Price'] - org_redfin_csv['Closing Costs (3.5% Or $3,700)']"
   ]
  },
  {
   "cell_type": "code",
   "execution_count": 45,
   "metadata": {},
   "outputs": [
    {
     "ename": "KeyError",
     "evalue": "('Price', 'Down Payment')",
     "output_type": "error",
     "traceback": [
      "\u001b[1;31m---------------------------------------------------------------------------\u001b[0m",
      "\u001b[1;31mKeyError\u001b[0m                                  Traceback (most recent call last)",
      "\u001b[1;32m~\\AppData\\Local\\Continuum\\anaconda3\\lib\\site-packages\\pandas\\core\\indexes\\base.py\u001b[0m in \u001b[0;36mget_loc\u001b[1;34m(self, key, method, tolerance)\u001b[0m\n\u001b[0;32m   2524\u001b[0m             \u001b[1;32mtry\u001b[0m\u001b[1;33m:\u001b[0m\u001b[1;33m\u001b[0m\u001b[0m\n\u001b[1;32m-> 2525\u001b[1;33m                 \u001b[1;32mreturn\u001b[0m \u001b[0mself\u001b[0m\u001b[1;33m.\u001b[0m\u001b[0m_engine\u001b[0m\u001b[1;33m.\u001b[0m\u001b[0mget_loc\u001b[0m\u001b[1;33m(\u001b[0m\u001b[0mkey\u001b[0m\u001b[1;33m)\u001b[0m\u001b[1;33m\u001b[0m\u001b[0m\n\u001b[0m\u001b[0;32m   2526\u001b[0m             \u001b[1;32mexcept\u001b[0m \u001b[0mKeyError\u001b[0m\u001b[1;33m:\u001b[0m\u001b[1;33m\u001b[0m\u001b[0m\n",
      "\u001b[1;32mpandas/_libs/index.pyx\u001b[0m in \u001b[0;36mpandas._libs.index.IndexEngine.get_loc\u001b[1;34m()\u001b[0m\n",
      "\u001b[1;32mpandas/_libs/index.pyx\u001b[0m in \u001b[0;36mpandas._libs.index.IndexEngine.get_loc\u001b[1;34m()\u001b[0m\n",
      "\u001b[1;32mpandas/_libs/hashtable_class_helper.pxi\u001b[0m in \u001b[0;36mpandas._libs.hashtable.PyObjectHashTable.get_item\u001b[1;34m()\u001b[0m\n",
      "\u001b[1;32mpandas/_libs/hashtable_class_helper.pxi\u001b[0m in \u001b[0;36mpandas._libs.hashtable.PyObjectHashTable.get_item\u001b[1;34m()\u001b[0m\n",
      "\u001b[1;31mKeyError\u001b[0m: ('Price', 'Down Payment')",
      "\nDuring handling of the above exception, another exception occurred:\n",
      "\u001b[1;31mKeyError\u001b[0m                                  Traceback (most recent call last)",
      "\u001b[1;32m<ipython-input-45-fcda5a680575>\u001b[0m in \u001b[0;36m<module>\u001b[1;34m()\u001b[0m\n\u001b[0;32m      2\u001b[0m \u001b[1;31m#org_redfin_csv['Price'].map('${:,}'.format)\u001b[0m\u001b[1;33m\u001b[0m\u001b[1;33m\u001b[0m\u001b[0m\n\u001b[0;32m      3\u001b[0m \u001b[1;33m\u001b[0m\u001b[0m\n\u001b[1;32m----> 4\u001b[1;33m \u001b[0morg_redfin_csv\u001b[0m \u001b[1;33m=\u001b[0m \u001b[0morg_redfin_csv\u001b[0m\u001b[1;33m[\u001b[0m\u001b[1;34m'Price'\u001b[0m\u001b[1;33m,\u001b[0m \u001b[1;34m'Down Payment'\u001b[0m\u001b[1;33m]\u001b[0m\u001b[1;33m.\u001b[0m\u001b[0mmap\u001b[0m\u001b[1;33m(\u001b[0m\u001b[1;34m'${:,}'\u001b[0m\u001b[1;33m.\u001b[0m\u001b[0mformat\u001b[0m\u001b[1;33m)\u001b[0m\u001b[1;33m\u001b[0m\u001b[0m\n\u001b[0m",
      "\u001b[1;32m~\\AppData\\Local\\Continuum\\anaconda3\\lib\\site-packages\\pandas\\core\\frame.py\u001b[0m in \u001b[0;36m__getitem__\u001b[1;34m(self, key)\u001b[0m\n\u001b[0;32m   2137\u001b[0m             \u001b[1;32mreturn\u001b[0m \u001b[0mself\u001b[0m\u001b[1;33m.\u001b[0m\u001b[0m_getitem_multilevel\u001b[0m\u001b[1;33m(\u001b[0m\u001b[0mkey\u001b[0m\u001b[1;33m)\u001b[0m\u001b[1;33m\u001b[0m\u001b[0m\n\u001b[0;32m   2138\u001b[0m         \u001b[1;32melse\u001b[0m\u001b[1;33m:\u001b[0m\u001b[1;33m\u001b[0m\u001b[0m\n\u001b[1;32m-> 2139\u001b[1;33m             \u001b[1;32mreturn\u001b[0m \u001b[0mself\u001b[0m\u001b[1;33m.\u001b[0m\u001b[0m_getitem_column\u001b[0m\u001b[1;33m(\u001b[0m\u001b[0mkey\u001b[0m\u001b[1;33m)\u001b[0m\u001b[1;33m\u001b[0m\u001b[0m\n\u001b[0m\u001b[0;32m   2140\u001b[0m \u001b[1;33m\u001b[0m\u001b[0m\n\u001b[0;32m   2141\u001b[0m     \u001b[1;32mdef\u001b[0m \u001b[0m_getitem_column\u001b[0m\u001b[1;33m(\u001b[0m\u001b[0mself\u001b[0m\u001b[1;33m,\u001b[0m \u001b[0mkey\u001b[0m\u001b[1;33m)\u001b[0m\u001b[1;33m:\u001b[0m\u001b[1;33m\u001b[0m\u001b[0m\n",
      "\u001b[1;32m~\\AppData\\Local\\Continuum\\anaconda3\\lib\\site-packages\\pandas\\core\\frame.py\u001b[0m in \u001b[0;36m_getitem_column\u001b[1;34m(self, key)\u001b[0m\n\u001b[0;32m   2144\u001b[0m         \u001b[1;31m# get column\u001b[0m\u001b[1;33m\u001b[0m\u001b[1;33m\u001b[0m\u001b[0m\n\u001b[0;32m   2145\u001b[0m         \u001b[1;32mif\u001b[0m \u001b[0mself\u001b[0m\u001b[1;33m.\u001b[0m\u001b[0mcolumns\u001b[0m\u001b[1;33m.\u001b[0m\u001b[0mis_unique\u001b[0m\u001b[1;33m:\u001b[0m\u001b[1;33m\u001b[0m\u001b[0m\n\u001b[1;32m-> 2146\u001b[1;33m             \u001b[1;32mreturn\u001b[0m \u001b[0mself\u001b[0m\u001b[1;33m.\u001b[0m\u001b[0m_get_item_cache\u001b[0m\u001b[1;33m(\u001b[0m\u001b[0mkey\u001b[0m\u001b[1;33m)\u001b[0m\u001b[1;33m\u001b[0m\u001b[0m\n\u001b[0m\u001b[0;32m   2147\u001b[0m \u001b[1;33m\u001b[0m\u001b[0m\n\u001b[0;32m   2148\u001b[0m         \u001b[1;31m# duplicate columns & possible reduce dimensionality\u001b[0m\u001b[1;33m\u001b[0m\u001b[1;33m\u001b[0m\u001b[0m\n",
      "\u001b[1;32m~\\AppData\\Local\\Continuum\\anaconda3\\lib\\site-packages\\pandas\\core\\generic.py\u001b[0m in \u001b[0;36m_get_item_cache\u001b[1;34m(self, item)\u001b[0m\n\u001b[0;32m   1840\u001b[0m         \u001b[0mres\u001b[0m \u001b[1;33m=\u001b[0m \u001b[0mcache\u001b[0m\u001b[1;33m.\u001b[0m\u001b[0mget\u001b[0m\u001b[1;33m(\u001b[0m\u001b[0mitem\u001b[0m\u001b[1;33m)\u001b[0m\u001b[1;33m\u001b[0m\u001b[0m\n\u001b[0;32m   1841\u001b[0m         \u001b[1;32mif\u001b[0m \u001b[0mres\u001b[0m \u001b[1;32mis\u001b[0m \u001b[1;32mNone\u001b[0m\u001b[1;33m:\u001b[0m\u001b[1;33m\u001b[0m\u001b[0m\n\u001b[1;32m-> 1842\u001b[1;33m             \u001b[0mvalues\u001b[0m \u001b[1;33m=\u001b[0m \u001b[0mself\u001b[0m\u001b[1;33m.\u001b[0m\u001b[0m_data\u001b[0m\u001b[1;33m.\u001b[0m\u001b[0mget\u001b[0m\u001b[1;33m(\u001b[0m\u001b[0mitem\u001b[0m\u001b[1;33m)\u001b[0m\u001b[1;33m\u001b[0m\u001b[0m\n\u001b[0m\u001b[0;32m   1843\u001b[0m             \u001b[0mres\u001b[0m \u001b[1;33m=\u001b[0m \u001b[0mself\u001b[0m\u001b[1;33m.\u001b[0m\u001b[0m_box_item_values\u001b[0m\u001b[1;33m(\u001b[0m\u001b[0mitem\u001b[0m\u001b[1;33m,\u001b[0m \u001b[0mvalues\u001b[0m\u001b[1;33m)\u001b[0m\u001b[1;33m\u001b[0m\u001b[0m\n\u001b[0;32m   1844\u001b[0m             \u001b[0mcache\u001b[0m\u001b[1;33m[\u001b[0m\u001b[0mitem\u001b[0m\u001b[1;33m]\u001b[0m \u001b[1;33m=\u001b[0m \u001b[0mres\u001b[0m\u001b[1;33m\u001b[0m\u001b[0m\n",
      "\u001b[1;32m~\\AppData\\Local\\Continuum\\anaconda3\\lib\\site-packages\\pandas\\core\\internals.py\u001b[0m in \u001b[0;36mget\u001b[1;34m(self, item, fastpath)\u001b[0m\n\u001b[0;32m   3841\u001b[0m \u001b[1;33m\u001b[0m\u001b[0m\n\u001b[0;32m   3842\u001b[0m             \u001b[1;32mif\u001b[0m \u001b[1;32mnot\u001b[0m \u001b[0misna\u001b[0m\u001b[1;33m(\u001b[0m\u001b[0mitem\u001b[0m\u001b[1;33m)\u001b[0m\u001b[1;33m:\u001b[0m\u001b[1;33m\u001b[0m\u001b[0m\n\u001b[1;32m-> 3843\u001b[1;33m                 \u001b[0mloc\u001b[0m \u001b[1;33m=\u001b[0m \u001b[0mself\u001b[0m\u001b[1;33m.\u001b[0m\u001b[0mitems\u001b[0m\u001b[1;33m.\u001b[0m\u001b[0mget_loc\u001b[0m\u001b[1;33m(\u001b[0m\u001b[0mitem\u001b[0m\u001b[1;33m)\u001b[0m\u001b[1;33m\u001b[0m\u001b[0m\n\u001b[0m\u001b[0;32m   3844\u001b[0m             \u001b[1;32melse\u001b[0m\u001b[1;33m:\u001b[0m\u001b[1;33m\u001b[0m\u001b[0m\n\u001b[0;32m   3845\u001b[0m                 \u001b[0mindexer\u001b[0m \u001b[1;33m=\u001b[0m \u001b[0mnp\u001b[0m\u001b[1;33m.\u001b[0m\u001b[0marange\u001b[0m\u001b[1;33m(\u001b[0m\u001b[0mlen\u001b[0m\u001b[1;33m(\u001b[0m\u001b[0mself\u001b[0m\u001b[1;33m.\u001b[0m\u001b[0mitems\u001b[0m\u001b[1;33m)\u001b[0m\u001b[1;33m)\u001b[0m\u001b[1;33m[\u001b[0m\u001b[0misna\u001b[0m\u001b[1;33m(\u001b[0m\u001b[0mself\u001b[0m\u001b[1;33m.\u001b[0m\u001b[0mitems\u001b[0m\u001b[1;33m)\u001b[0m\u001b[1;33m]\u001b[0m\u001b[1;33m\u001b[0m\u001b[0m\n",
      "\u001b[1;32m~\\AppData\\Local\\Continuum\\anaconda3\\lib\\site-packages\\pandas\\core\\indexes\\base.py\u001b[0m in \u001b[0;36mget_loc\u001b[1;34m(self, key, method, tolerance)\u001b[0m\n\u001b[0;32m   2525\u001b[0m                 \u001b[1;32mreturn\u001b[0m \u001b[0mself\u001b[0m\u001b[1;33m.\u001b[0m\u001b[0m_engine\u001b[0m\u001b[1;33m.\u001b[0m\u001b[0mget_loc\u001b[0m\u001b[1;33m(\u001b[0m\u001b[0mkey\u001b[0m\u001b[1;33m)\u001b[0m\u001b[1;33m\u001b[0m\u001b[0m\n\u001b[0;32m   2526\u001b[0m             \u001b[1;32mexcept\u001b[0m \u001b[0mKeyError\u001b[0m\u001b[1;33m:\u001b[0m\u001b[1;33m\u001b[0m\u001b[0m\n\u001b[1;32m-> 2527\u001b[1;33m                 \u001b[1;32mreturn\u001b[0m \u001b[0mself\u001b[0m\u001b[1;33m.\u001b[0m\u001b[0m_engine\u001b[0m\u001b[1;33m.\u001b[0m\u001b[0mget_loc\u001b[0m\u001b[1;33m(\u001b[0m\u001b[0mself\u001b[0m\u001b[1;33m.\u001b[0m\u001b[0m_maybe_cast_indexer\u001b[0m\u001b[1;33m(\u001b[0m\u001b[0mkey\u001b[0m\u001b[1;33m)\u001b[0m\u001b[1;33m)\u001b[0m\u001b[1;33m\u001b[0m\u001b[0m\n\u001b[0m\u001b[0;32m   2528\u001b[0m \u001b[1;33m\u001b[0m\u001b[0m\n\u001b[0;32m   2529\u001b[0m         \u001b[0mindexer\u001b[0m \u001b[1;33m=\u001b[0m \u001b[0mself\u001b[0m\u001b[1;33m.\u001b[0m\u001b[0mget_indexer\u001b[0m\u001b[1;33m(\u001b[0m\u001b[1;33m[\u001b[0m\u001b[0mkey\u001b[0m\u001b[1;33m]\u001b[0m\u001b[1;33m,\u001b[0m \u001b[0mmethod\u001b[0m\u001b[1;33m=\u001b[0m\u001b[0mmethod\u001b[0m\u001b[1;33m,\u001b[0m \u001b[0mtolerance\u001b[0m\u001b[1;33m=\u001b[0m\u001b[0mtolerance\u001b[0m\u001b[1;33m)\u001b[0m\u001b[1;33m\u001b[0m\u001b[0m\n",
      "\u001b[1;32mpandas/_libs/index.pyx\u001b[0m in \u001b[0;36mpandas._libs.index.IndexEngine.get_loc\u001b[1;34m()\u001b[0m\n",
      "\u001b[1;32mpandas/_libs/index.pyx\u001b[0m in \u001b[0;36mpandas._libs.index.IndexEngine.get_loc\u001b[1;34m()\u001b[0m\n",
      "\u001b[1;32mpandas/_libs/hashtable_class_helper.pxi\u001b[0m in \u001b[0;36mpandas._libs.hashtable.PyObjectHashTable.get_item\u001b[1;34m()\u001b[0m\n",
      "\u001b[1;32mpandas/_libs/hashtable_class_helper.pxi\u001b[0m in \u001b[0;36mpandas._libs.hashtable.PyObjectHashTable.get_item\u001b[1;34m()\u001b[0m\n",
      "\u001b[1;31mKeyError\u001b[0m: ('Price', 'Down Payment')"
     ]
    }
   ],
   "source": [
    "#Convert intergers to dollars\n",
    "#org_redfin_csv['Price'].map('${:,}'.format)\n",
    "\n",
    "#org_redfin_csv['Price', 'Down Payment'].map('${:,}'.format)"
   ]
  },
  {
   "cell_type": "code",
   "execution_count": 36,
   "metadata": {},
   "outputs": [
    {
     "data": {
      "text/html": [
       "<div>\n",
       "<style scoped>\n",
       "    .dataframe tbody tr th:only-of-type {\n",
       "        vertical-align: middle;\n",
       "    }\n",
       "\n",
       "    .dataframe tbody tr th {\n",
       "        vertical-align: top;\n",
       "    }\n",
       "\n",
       "    .dataframe thead th {\n",
       "        text-align: right;\n",
       "    }\n",
       "</style>\n",
       "<table border=\"1\" class=\"dataframe\">\n",
       "  <thead>\n",
       "    <tr style=\"text-align: right;\">\n",
       "      <th></th>\n",
       "      <th>Price</th>\n",
       "      <th>Down Payment</th>\n",
       "      <th>Closing Costs (3.5% Or $3,700)</th>\n",
       "      <th>Mortgage Amount</th>\n",
       "      <th>Mortgage Percentage</th>\n",
       "      <th>Update &amp; Repairs</th>\n",
       "      <th>Total Purchase Price</th>\n",
       "      <th>Mortgage Payment (Rate 4.5%)</th>\n",
       "      <th>Mortgage Interest</th>\n",
       "      <th>Pmi</th>\n",
       "      <th>...</th>\n",
       "      <th>State</th>\n",
       "      <th>Zip</th>\n",
       "      <th>Address</th>\n",
       "      <th>Location</th>\n",
       "      <th>Property Type</th>\n",
       "      <th>Year Built</th>\n",
       "      <th>Days On Market</th>\n",
       "      <th>Mls#</th>\n",
       "      <th>Latitude</th>\n",
       "      <th>Longitude</th>\n",
       "    </tr>\n",
       "  </thead>\n",
       "  <tbody>\n",
       "    <tr>\n",
       "      <th>0</th>\n",
       "      <td>329900</td>\n",
       "      <td>60000</td>\n",
       "      <td>3700</td>\n",
       "      <td>269900</td>\n",
       "      <td>0</td>\n",
       "      <td>2000</td>\n",
       "      <td>0</td>\n",
       "      <td>0.0</td>\n",
       "      <td>0</td>\n",
       "      <td>0</td>\n",
       "      <td>...</td>\n",
       "      <td>VA</td>\n",
       "      <td>22201</td>\n",
       "      <td>1045 Utah St Unit 2-111</td>\n",
       "      <td>Windsor Plaza</td>\n",
       "      <td>Condo/Co-op</td>\n",
       "      <td>1994</td>\n",
       "      <td>2</td>\n",
       "      <td>AR10215237</td>\n",
       "      <td>38.883287</td>\n",
       "      <td>-77.113566</td>\n",
       "    </tr>\n",
       "    <tr>\n",
       "      <th>1</th>\n",
       "      <td>399000</td>\n",
       "      <td>60000</td>\n",
       "      <td>3700</td>\n",
       "      <td>339000</td>\n",
       "      <td>0</td>\n",
       "      <td>2000</td>\n",
       "      <td>0</td>\n",
       "      <td>0.0</td>\n",
       "      <td>0</td>\n",
       "      <td>0</td>\n",
       "      <td>...</td>\n",
       "      <td>DC</td>\n",
       "      <td>20005</td>\n",
       "      <td>1115 12th St NW #405</td>\n",
       "      <td>Old City #2</td>\n",
       "      <td>Condo/Co-op</td>\n",
       "      <td>1937</td>\n",
       "      <td>4</td>\n",
       "      <td>DC10212424</td>\n",
       "      <td>38.904570</td>\n",
       "      <td>-77.027944</td>\n",
       "    </tr>\n",
       "  </tbody>\n",
       "</table>\n",
       "<p>2 rows × 33 columns</p>\n",
       "</div>"
      ],
      "text/plain": [
       "    Price  Down Payment  Closing Costs (3.5% Or $3,700)  Mortgage Amount  \\\n",
       "0  329900         60000                            3700           269900   \n",
       "1  399000         60000                            3700           339000   \n",
       "\n",
       "   Mortgage Percentage  Update & Repairs  Total Purchase Price  \\\n",
       "0                    0              2000                     0   \n",
       "1                    0              2000                     0   \n",
       "\n",
       "   Mortgage Payment (Rate 4.5%)  Mortgage Interest  Pmi    ...      State  \\\n",
       "0                           0.0                  0    0    ...         VA   \n",
       "1                           0.0                  0    0    ...         DC   \n",
       "\n",
       "     Zip                  Address       Location  Property Type  Year Built  \\\n",
       "0  22201  1045 Utah St Unit 2-111  Windsor Plaza    Condo/Co-op        1994   \n",
       "1  20005     1115 12th St NW #405    Old City #2    Condo/Co-op        1937   \n",
       "\n",
       "   Days On Market        Mls#   Latitude  Longitude  \n",
       "0               2  AR10215237  38.883287 -77.113566  \n",
       "1               4  DC10212424  38.904570 -77.027944  \n",
       "\n",
       "[2 rows x 33 columns]"
      ]
     },
     "execution_count": 36,
     "metadata": {},
     "output_type": "execute_result"
    }
   ],
   "source": [
    "org_redfin_csv.head(2)"
   ]
  },
  {
   "cell_type": "code",
   "execution_count": null,
   "metadata": {},
   "outputs": [],
   "source": []
  },
  {
   "cell_type": "code",
   "execution_count": null,
   "metadata": {},
   "outputs": [],
   "source": [
    "#Save to excel but leave the index out\n",
    "\n",
    "#Save the output as an Excel worksheet\n",
    "from pandas import ExcelWriter\n",
    "\n",
    "writer = ExcelWriter('Redfin_05.08.2018.xlsx')\n",
    "org_redfin_csv.to_excel(writer,'Main_List')\n",
    "writer.save()"
   ]
  },
  {
   "cell_type": "code",
   "execution_count": 16,
   "metadata": {},
   "outputs": [],
   "source": [
    "#Sorting pands dataframe or series\n",
    "\n",
    "#Sorting the dataframe by one \n",
    "#org_redfin_csv.sort_values('Price', ascending=True OR False, inplace=True)\n",
    "\n",
    "#Sorting by multiple columns\n",
    "#org_redfin_csv.sort_values(['Price', 'Down Payment'])\n",
    "\n",
    "#Sorting by series and the result will show only one column\n",
    "#org_redfin_csv['Price'].sort_values(ascending=True OR False, inplace=True)"
   ]
  },
  {
   "cell_type": "code",
   "execution_count": 17,
   "metadata": {},
   "outputs": [],
   "source": [
    "#Filtering pandas dataframe by column values"
   ]
  },
  {
   "cell_type": "code",
   "execution_count": null,
   "metadata": {},
   "outputs": [],
   "source": [
    "#Plot the location of the metro stations and the homes in that area on a map for visual effects"
   ]
  },
  {
   "cell_type": "code",
   "execution_count": null,
   "metadata": {},
   "outputs": [],
   "source": [
    "#Ask the user for an input and generate an excel file based on that"
   ]
  },
  {
   "cell_type": "code",
   "execution_count": null,
   "metadata": {},
   "outputs": [],
   "source": []
  }
 ],
 "metadata": {
  "kernelspec": {
   "display_name": "Python 3",
   "language": "python",
   "name": "python3"
  },
  "language_info": {
   "codemirror_mode": {
    "name": "ipython",
    "version": 3
   },
   "file_extension": ".py",
   "mimetype": "text/x-python",
   "name": "python",
   "nbconvert_exporter": "python",
   "pygments_lexer": "ipython3",
   "version": "3.6.4"
  }
 },
 "nbformat": 4,
 "nbformat_minor": 2
}
